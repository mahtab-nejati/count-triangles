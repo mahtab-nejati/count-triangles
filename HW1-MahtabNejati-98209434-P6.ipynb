{
 "cells": [
  {
   "cell_type": "code",
   "execution_count": 71,
   "metadata": {},
   "outputs": [],
   "source": [
    "from pyspark import SparkContext\n",
    "from pyspark.sql import SQLContext\n",
    "from pyspark.sql.types import *\n",
    "sqlc = SQLContext(spark)"
   ]
  },
  {
   "cell_type": "markdown",
   "metadata": {},
   "source": [
    "# Loading in the data"
   ]
  },
  {
   "cell_type": "code",
   "execution_count": 91,
   "metadata": {},
   "outputs": [
    {
     "data": {
      "text/plain": [
       "49995"
      ]
     },
     "execution_count": 91,
     "metadata": {},
     "output_type": "execute_result"
    }
   ],
   "source": [
    "rdd = sc.textFile(\"friendship-data.txt\")\n",
    "rdd.count()"
   ]
  },
  {
   "cell_type": "markdown",
   "metadata": {},
   "source": [
    "# Extracting edges"
   ]
  },
  {
   "cell_type": "code",
   "execution_count": 99,
   "metadata": {},
   "outputs": [
    {
     "data": {
      "text/plain": [
       "662467"
      ]
     },
     "execution_count": 99,
     "metadata": {},
     "output_type": "execute_result"
    }
   ],
   "source": [
    "def makeEdges(row):\n",
    "    rowSplit = row.split('\\t')\n",
    "    node = rowSplit[0]\n",
    "    neighbors = rowSplit[1].split(',')\n",
    "    return [[node,neighbor] for neighbor in neighbors]\n",
    "\n",
    "edgesRDD = rdd.flatMap(makeEdges)\n",
    "edgesDF = sqlc.createDataFrame(edgesRDD,['x','y'])\n",
    "edgesDF.count()"
   ]
  },
  {
   "cell_type": "markdown",
   "metadata": {},
   "source": [
    "### Now the edgesDF contains each edge twice, each time with one of the two directions.\n",
    "### e.g. => (0,1) and (1,0) both exist in the dataframe\n",
    "### We first need to eliminate the redundancy"
   ]
  },
  {
   "cell_type": "code",
   "execution_count": 101,
   "metadata": {},
   "outputs": [
    {
     "data": {
      "text/plain": [
       "330798"
      ]
     },
     "execution_count": 101,
     "metadata": {},
     "output_type": "execute_result"
    }
   ],
   "source": [
    "edgesDF = edgesDF.where('x<y')\n",
    "edgesDF.count()"
   ]
  },
  {
   "cell_type": "markdown",
   "metadata": {},
   "source": [
    "# Part A: Finding all the triangles\n",
    "### using conditional joins of the dataframe by itself twice, we can extract the list of triangles.\n",
    "#### in each join we should be mindful not to return a straight line a repeated edge in a back & forth kind of movement"
   ]
  },
  {
   "cell_type": "code",
   "execution_count": 152,
   "metadata": {},
   "outputs": [
    {
     "data": {
      "text/plain": [
       "Row(x='10096', y='10103', z='10114')"
      ]
     },
     "execution_count": 152,
     "metadata": {},
     "output_type": "execute_result"
    }
   ],
   "source": [
    "edgesDF2 = sqlc.createDataFrame(edgesRDD,['x','z'])\n",
    "edgesDF2 = edgesDF2.where('x<z')\n",
    "edgesDF2.count()\n",
    "\n",
    "semiCondition = [edgesDF.x == edgesDF2.x ,edgesDF.y != edgesDF2.z]\n",
    "semiOutputStyle = [ edgesDF.x,edgesDF.y,edgesDF2.z]\n",
    "semiTriangles = edgesDF.join(edgesDF2, semiCondition).select(semiOutputStyle)\n",
    "\n",
    "def sortNodes(row):\n",
    "    nodes = list(row)\n",
    "    return [row.x,min(row.y,row.z),max(row.y,row.z)]\n",
    "\n",
    "semiTrianglesRDD = semiTriangles.rdd.map(sortNodes)\n",
    "semiTriangles = semiTrianglesRDD.toDF(['x','y','z'])\n",
    "semiTriangles.first()"
   ]
  },
  {
   "cell_type": "markdown",
   "metadata": {},
   "source": [
    "### The third side has to be in a set of reverse edges"
   ]
  },
  {
   "cell_type": "code",
   "execution_count": 153,
   "metadata": {},
   "outputs": [],
   "source": [
    "condition = [semiTriangles.y == edgesDF.x , semiTriangles.z == edgesDF.y ]\n",
    "outputStyle = [ semiTriangles.x,semiTriangles.y ,semiTriangles.z]\n",
    "triangles = semiTriangles.join(edgesDF, condition).select(outputStyle)"
   ]
  },
  {
   "cell_type": "markdown",
   "metadata": {},
   "source": [
    "## The number of triangles after droping the duplicates"
   ]
  },
  {
   "cell_type": "code",
   "execution_count": 154,
   "metadata": {},
   "outputs": [
    {
     "data": {
      "text/plain": [
       "757243"
      ]
     },
     "execution_count": 154,
     "metadata": {},
     "output_type": "execute_result"
    }
   ],
   "source": [
    "triangles = triangles.drop_duplicates()\n",
    "triangles.count()"
   ]
  },
  {
   "cell_type": "code",
   "execution_count": 155,
   "metadata": {},
   "outputs": [
    {
     "data": {
      "text/plain": [
       "Row(x='10002', y='10007', z='9995')"
      ]
     },
     "execution_count": 155,
     "metadata": {},
     "output_type": "execute_result"
    }
   ],
   "source": [
    "triangles.first()"
   ]
  },
  {
   "cell_type": "markdown",
   "metadata": {},
   "source": [
    "### Saving output to tirangles directory"
   ]
  },
  {
   "cell_type": "code",
   "execution_count": 156,
   "metadata": {},
   "outputs": [],
   "source": [
    "to_save = triangles.rdd.map(lambda row: \" {} \\t {} \\t {} \".format(row[0],row[1],row[2]))\n",
    "to_save.coalesce(1).saveAsTextFile('triangles')"
   ]
  },
  {
   "cell_type": "markdown",
   "metadata": {},
   "source": [
    "# Part B: Finding triangles with specific nodes"
   ]
  },
  {
   "cell_type": "markdown",
   "metadata": {},
   "source": [
    "### I will use the resultant to_save RDD to search for triangles"
   ]
  },
  {
   "cell_type": "code",
   "execution_count": 158,
   "metadata": {},
   "outputs": [
    {
     "data": {
      "text/plain": [
       "50"
      ]
     },
     "execution_count": 158,
     "metadata": {},
     "output_type": "execute_result"
    }
   ],
   "source": [
    "to_find = [' 924 ',' 8941 ', ' 8942 ', ' 9019 ', ' 9020 ',' 9990 ', ' 9993 ']\n",
    "\n",
    "def containNode(row,to_find):\n",
    "    return any(x in row for x in to_find)\n",
    "\n",
    "containing = to_save.filter(lambda row: containNode(row,to_find))\n",
    "containing.count()"
   ]
  },
  {
   "cell_type": "markdown",
   "metadata": {},
   "source": [
    "## Results for each node is saved under the triangles_q_{nodeID} directory"
   ]
  },
  {
   "cell_type": "code",
   "execution_count": 162,
   "metadata": {},
   "outputs": [],
   "source": [
    "query_result = {}\n",
    "for node in to_find:\n",
    "    query_result[node.strip()] = containing.filter(lambda row : (node in str(row)))\n",
    "\n",
    "for key,rdd in query_result.items():\n",
    "    rdd.coalesce(1).saveAsTextFile('triangles_q_'+key.strip())"
   ]
  },
  {
   "cell_type": "code",
   "execution_count": null,
   "metadata": {},
   "outputs": [],
   "source": []
  }
 ],
 "metadata": {
  "kernelspec": {
   "display_name": "Python 3",
   "language": "python",
   "name": "python3"
  },
  "language_info": {
   "codemirror_mode": {
    "name": "ipython",
    "version": 3
   },
   "file_extension": ".py",
   "mimetype": "text/x-python",
   "name": "python",
   "nbconvert_exporter": "python",
   "pygments_lexer": "ipython3",
   "version": "3.7.4"
  }
 },
 "nbformat": 4,
 "nbformat_minor": 4
}
